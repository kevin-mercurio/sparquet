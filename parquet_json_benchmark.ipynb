{
 "cells": [
  {
   "cell_type": "code",
   "execution_count": 1,
   "metadata": {
    "collapsed": false
   },
   "outputs": [
    {
     "name": "stdout",
     "output_type": "stream",
     "text": [
      "Populating the interactive namespace from numpy and matplotlib\n"
     ]
    }
   ],
   "source": [
    "%pylab inline\n",
    "from time import time\n",
    "import seaborn as sns\n",
    "from pandas import DataFrame\n",
    "from pyspark.sql.types import *"
   ]
  },
  {
   "cell_type": "code",
   "execution_count": 2,
   "metadata": {
    "collapsed": false
   },
   "outputs": [],
   "source": [
    "def build_df_table(df, table_name, s3_bucket, years, parquet=False):\n",
    "    for year in years:\n",
    "        if parquet:\n",
    "            temp_df = sqlContext.read.parquet(\"s3a://{}/year={}\".format(s3_bucket, year))\n",
    "        else:\n",
    "            temp_df = sqlContext.read.json(\"s3a://{}/{}\".format(s3_bucket, year), df.schema)\n",
    "            \n",
    "        df = df.unionAll(temp_df)\n",
    "\n",
    "    df.registerTempTable(table_name)\n",
    "    \n",
    "    return df"
   ]
  },
  {
   "cell_type": "code",
   "execution_count": 3,
   "metadata": {
    "collapsed": false
   },
   "outputs": [],
   "source": [
    "schema = StructType([\n",
    "        StructField(\"archived\", BooleanType(), True),\n",
    "        StructField(\"author\", StringType(), True),\n",
    "        StructField(\"author_flair_css_class\", StringType(), True),\n",
    "        StructField(\"author_flair_text\", StringType(), True),\n",
    "        StructField(\"body\", StringType(), True),\n",
    "        StructField(\"controversiality\", LongType(), True),\n",
    "        StructField(\"created_utc\", StringType(), True),\n",
    "        StructField(\"distinguished\", StringType(), True),\n",
    "        StructField(\"downs\", LongType(), True),\n",
    "        StructField(\"edited\", StringType(), True),\n",
    "        StructField(\"gilded\", LongType(), True),\n",
    "        StructField(\"id\", StringType(), True),\n",
    "        StructField(\"link_id\", StringType(), True),\n",
    "        StructField(\"name\", StringType(), True),\n",
    "        StructField(\"parent_id\", StringType(), True),\n",
    "        StructField(\"removal_reason\", StringType(), True),\n",
    "        StructField(\"retrieved_on\", LongType(), True),\n",
    "        StructField(\"score\", LongType(), True),\n",
    "        StructField(\"score_hidden\", BooleanType(), True),\n",
    "        StructField(\"subreddit\", StringType(), True),\n",
    "        StructField(\"subreddit_id\", StringType(), True),\n",
    "        StructField(\"ups\", LongType(), True),\n",
    "        StructField(\"year\", LongType(), True)])\n",
    "\n",
    "years = [2007, 2008, 2009, 2010, 2011, 2012]\n",
    "df_parquet = sqlContext.createDataFrame([], schema)\n",
    "df_json = sqlContext.createDataFrame([], schema)\n",
    "\n",
    "df_parquet = build_df_table(df_parquet, \"comments_parquet\", \"reddit-comments-parquet\", years, parquet=True)\n",
    "df_json = build_df_table(df_json, \"comments_json\", \"reddit-comments\", years, parquet=False)"
   ]
  },
  {
   "cell_type": "code",
   "execution_count": 4,
   "metadata": {
    "collapsed": false
   },
   "outputs": [
    {
     "name": "stdout",
     "output_type": "stream",
     "text": [
      "[comments_parquet] Time elapsed (s): 47.30509305, # of records: 70990\n",
      "[comments_json] Time elapsed (s): 190.449006081, # of records: 70990\n"
     ]
    }
   ],
   "source": [
    "def query_1(table_name):\n",
    "    \"\"\"Standard Map Reduce with a Filter query\"\"\"\n",
    "    \n",
    "    result1 = sqlContext.sql(\"\"\"\n",
    "        SELECT   subreddit, \n",
    "                 COUNT(DISTINCT author) as author_cnt, \n",
    "                 COUNT(gilded) as gilded_cnt, \n",
    "                 COUNT(controversiality) as controversiality_cnt\n",
    "        FROM     {}\n",
    "        WHERE    author <> \"[deleted]\"\n",
    "        GROUP BY subreddit\n",
    "    \"\"\".format(table_name))\n",
    "    start_time = time()\n",
    "    result_cnt = result1.count()\n",
    "    elapsed_time = time() - start_time\n",
    "    print(\"[{}] Time elapsed (s): {}, # of records: {}\".format(table_name, elapsed_time, result_cnt))\n",
    "    \n",
    "    return elapsed_time\n",
    "    \n",
    "parquet_time_1 = query_1(\"comments_parquet\")\n",
    "json_time_1 = query_1(\"comments_json\")"
   ]
  },
  {
   "cell_type": "code",
   "execution_count": 5,
   "metadata": {
    "collapsed": false
   },
   "outputs": [
    {
     "name": "stdout",
     "output_type": "stream",
     "text": [
      "[comments_parquet] Time elapsed (s): 5.72052693367, # of records: 10\n",
      "[comments_json] Time elapsed (s): 163.238131046, # of records: 10\n"
     ]
    }
   ],
   "source": [
    "def query_2(table_name):\n",
    "    \"\"\"Needle in a haystack query\"\"\"\n",
    "    \n",
    "    result1 = sqlContext.sql(\"\"\"\n",
    "        SELECT   subreddit, \n",
    "                 author, \n",
    "                 gilded, \n",
    "                 controversiality\n",
    "        FROM     {}\n",
    "        WHERE    author = \"Eldilia\"\n",
    "        AND      gilded = 1\n",
    "        ORDER BY created_utc ASC\n",
    "        LIMIT 25\n",
    "    \"\"\".format(table_name))\n",
    "    start_time = time()\n",
    "    result_cnt = result1.count()\n",
    "    elapsed_time = time() - start_time\n",
    "    print(\"[{}] Time elapsed (s): {}, # of records: {}\".format(table_name, elapsed_time, result_cnt))\n",
    "    \n",
    "    return elapsed_time\n",
    "    \n",
    "parquet_time_2 = query_2(\"comments_parquet\")\n",
    "json_time_2 = query_2(\"comments_json\")"
   ]
  },
  {
   "cell_type": "code",
   "execution_count": 6,
   "metadata": {
    "collapsed": false
   },
   "outputs": [
    {
     "data": {
      "text/plain": [
       "<matplotlib.axes.AxesSubplot at 0x7fa7ca5476d0>"
      ]
     },
     "execution_count": 6,
     "metadata": {},
     "output_type": "execute_result"
    },
    {
     "name": "stderr",
     "output_type": "stream",
     "text": [
      "/usr/lib/pymodules/python2.7/matplotlib/font_manager.py:1236: UserWarning: findfont: Font family ['sans-serif'] not found. Falling back to Bitstream Vera Sans\n",
      "  (prop.get_family(), self.defaultFamily[fontext]))\n",
      "/usr/lib/pymodules/python2.7/matplotlib/font_manager.py:1246: UserWarning: findfont: Could not match :family=Bitstream Vera Sans:style=normal:variant=normal:weight=normal:stretch=normal:size=10.0. Returning /usr/share/matplotlib/mpl-data/fonts/ttf/cmb10.ttf\n",
      "  UserWarning)\n",
      "/usr/lib/pymodules/python2.7/matplotlib/font_manager.py:1246: UserWarning: findfont: Could not match :family=Bitstream Vera Sans:style=normal:variant=normal:weight=normal:stretch=normal:size=11.0. Returning /usr/share/matplotlib/mpl-data/fonts/ttf/cmb10.ttf\n",
      "  UserWarning)\n",
      "/usr/lib/pymodules/python2.7/matplotlib/font_manager.py:1246: UserWarning: findfont: Could not match :family=Bitstream Vera Sans:style=normal:variant=normal:weight=normal:stretch=normal:size=9.35. Returning /usr/share/matplotlib/mpl-data/fonts/ttf/cmb10.ttf\n",
      "  UserWarning)\n"
     ]
    },
    {
     "data": {
      "image/png": "[encoded data removed]",
      "text/plain": [
       "<matplotlib.figure.Figure at 0x7fa7ca782a90>"
      ]
     },
     "metadata": {},
     "output_type": "display_data"
    }
   ],
   "source": [
    "benchmark_dict = {\"time\": [parquet_time_1, parquet_time_2, json_time_1, json_time_2],\n",
    "                  \"file_format\": [\"parquet\"]*2 + [\"json\"]*2,\n",
    "                  \"query\": [\"q1\", \"q2\"]*2}\n",
    "benchmark_df = DataFrame(benchmark_dict)\n",
    "\n",
    "sns.set_color_codes(\"pastel\")\n",
    "sns.barplot(x=\"time\", y=\"query\", hue=\"file_format\", data=benchmark_df, color=\"b\")"
   ]
  }
 ],
 "metadata": {
  "kernelspec": {
   "display_name": "Python 2",
   "language": "python",
   "name": "python2"
  },
  "language_info": {
   "codemirror_mode": {
    "name": "ipython",
    "version": 2
   },
   "file_extension": ".py",
   "mimetype": "text/x-python",
   "name": "python",
   "nbconvert_exporter": "python",
   "pygments_lexer": "ipython2",
   "version": "2.7.6"
  }
 },
 "nbformat": 4,
 "nbformat_minor": 0
}
